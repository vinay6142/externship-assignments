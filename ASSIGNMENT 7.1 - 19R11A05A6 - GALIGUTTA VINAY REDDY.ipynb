{
 "cells": [
  {
   "cell_type": "code",
   "execution_count": 1,
   "metadata": {},
   "outputs": [],
   "source": [
    "from tensorflow.keras.models import Sequential\n",
    "from tensorflow.keras.layers import Dense\n",
    "from tensorflow.keras.layers import Convolution2D\n",
    "from tensorflow.keras.layers import MaxPooling2D\n",
    "from tensorflow.keras.layers import Flatten"
   ]
  },
  {
   "cell_type": "code",
   "execution_count": 2,
   "metadata": {},
   "outputs": [
    {
     "name": "stderr",
     "output_type": "stream",
     "text": [
      "Using TensorFlow backend.\n"
     ]
    }
   ],
   "source": [
    "from keras.preprocessing.image import ImageDataGenerator\n",
    "train_datagen = ImageDataGenerator(rescale = 1./255,shear_range = 0.2,zoom_range = 0.2,horizontal_flip = True)\n",
    "test_datagen = ImageDataGenerator(rescale = 1./255)"
   ]
  },
  {
   "cell_type": "code",
   "execution_count": 3,
   "metadata": {},
   "outputs": [
    {
     "name": "stdout",
     "output_type": "stream",
     "text": [
      "Found 107 images belonging to 3 classes.\n",
      "Found 30 images belonging to 3 classes.\n"
     ]
    }
   ],
   "source": [
    "x_train = train_datagen.flow_from_directory(r\"D:\\notes\\things data\\trainset\",target_size = (64,64),batch_size = 16,class_mode = \"categorical\")\n",
    "x_test = test_datagen.flow_from_directory(r\"D:\\notes\\things data\\testset\",target_size = (64,64),batch_size = 16,class_mode = \"categorical\")"
   ]
  },
  {
   "cell_type": "code",
   "execution_count": 4,
   "metadata": {},
   "outputs": [],
   "source": [
    "model = Sequential()"
   ]
  },
  {
   "cell_type": "code",
   "execution_count": 5,
   "metadata": {},
   "outputs": [
    {
     "name": "stdout",
     "output_type": "stream",
     "text": [
      "WARNING:tensorflow:From C:\\Users\\Priyanka\\Anaconda3\\lib\\site-packages\\tensorflow\\python\\ops\\init_ops.py:1251: calling VarianceScaling.__init__ (from tensorflow.python.ops.init_ops) with dtype is deprecated and will be removed in a future version.\n",
      "Instructions for updating:\n",
      "Call initializer instance with the dtype argument instead of passing it to the constructor\n"
     ]
    }
   ],
   "source": [
    "model.add(Convolution2D(32,(3,3),input_shape = (64,64,3),activation =\"relu\"))"
   ]
  },
  {
   "cell_type": "code",
   "execution_count": 6,
   "metadata": {},
   "outputs": [],
   "source": [
    "model.add(MaxPooling2D(2,2))"
   ]
  },
  {
   "cell_type": "code",
   "execution_count": 7,
   "metadata": {},
   "outputs": [],
   "source": [
    "model.add(Flatten())"
   ]
  },
  {
   "cell_type": "code",
   "execution_count": 8,
   "metadata": {},
   "outputs": [
    {
     "name": "stdout",
     "output_type": "stream",
     "text": [
      "WARNING:tensorflow:From C:\\Users\\Priyanka\\Anaconda3\\lib\\site-packages\\tensorflow\\python\\keras\\initializers.py:119: calling RandomUniform.__init__ (from tensorflow.python.ops.init_ops) with dtype is deprecated and will be removed in a future version.\n",
      "Instructions for updating:\n",
      "Call initializer instance with the dtype argument instead of passing it to the constructor\n"
     ]
    }
   ],
   "source": [
    "model.add(Dense(units = 512, activation = \"relu\",kernel_initializer = \"random_uniform\"))"
   ]
  },
  {
   "cell_type": "code",
   "execution_count": 9,
   "metadata": {},
   "outputs": [],
   "source": [
    "model.add(Dense(units = 3, activation = \"softmax\",kernel_initializer = \"random_uniform\"))"
   ]
  },
  {
   "cell_type": "code",
   "execution_count": 10,
   "metadata": {},
   "outputs": [],
   "source": [
    "model.compile(\"sgd\",loss = \"categorical_crossentropy\",metrics = [\"accuracy\"])"
   ]
  },
  {
   "cell_type": "code",
   "execution_count": 14,
   "metadata": {},
   "outputs": [
    {
     "name": "stdout",
     "output_type": "stream",
     "text": [
      "Epoch 1/15\n",
      "7/7 [==============================] - 17s 2s/step - loss: 1.8924 - acc: 0.3645 - val_loss: 0.9175 - val_acc: 0.5333\n",
      "Epoch 2/15\n",
      "7/7 [==============================] - 6s 898ms/step - loss: 0.8398 - acc: 0.6075 - val_loss: 0.8250 - val_acc: 0.7000\n",
      "Epoch 3/15\n",
      "7/7 [==============================] - 5s 739ms/step - loss: 0.7377 - acc: 0.7664 - val_loss: 0.6879 - val_acc: 0.6667\n",
      "Epoch 4/15\n",
      "7/7 [==============================] - 5s 694ms/step - loss: 0.6285 - acc: 0.7570 - val_loss: 0.6551 - val_acc: 0.6000\n",
      "Epoch 5/15\n",
      "7/7 [==============================] - 5s 646ms/step - loss: 0.5400 - acc: 0.8037 - val_loss: 0.6040 - val_acc: 0.7000\n",
      "Epoch 6/15\n",
      "7/7 [==============================] - 4s 573ms/step - loss: 0.4711 - acc: 0.7944 - val_loss: 0.5285 - val_acc: 0.8667\n",
      "Epoch 7/15\n",
      "7/7 [==============================] - 4s 547ms/step - loss: 0.4054 - acc: 0.8785 - val_loss: 0.4338 - val_acc: 0.8333\n",
      "Epoch 8/15\n",
      "7/7 [==============================] - 4s 553ms/step - loss: 0.4670 - acc: 0.7664 - val_loss: 0.4777 - val_acc: 0.7333\n",
      "Epoch 9/15\n",
      "7/7 [==============================] - 4s 567ms/step - loss: 0.3512 - acc: 0.8598 - val_loss: 0.3818 - val_acc: 0.8667\n",
      "Epoch 10/15\n",
      "7/7 [==============================] - 4s 604ms/step - loss: 0.3050 - acc: 0.9159 - val_loss: 0.3498 - val_acc: 0.8667\n",
      "Epoch 11/15\n",
      "7/7 [==============================] - 4s 557ms/step - loss: 0.2937 - acc: 0.9065 - val_loss: 0.4586 - val_acc: 0.7333\n",
      "Epoch 12/15\n",
      "7/7 [==============================] - 4s 550ms/step - loss: 0.3666 - acc: 0.8224 - val_loss: 0.3338 - val_acc: 0.9000\n",
      "Epoch 13/15\n",
      "7/7 [==============================] - 4s 540ms/step - loss: 0.2349 - acc: 0.9252 - val_loss: 0.3544 - val_acc: 0.9000\n",
      "Epoch 14/15\n",
      "7/7 [==============================] - 4s 531ms/step - loss: 0.4887 - acc: 0.7477 - val_loss: 0.3226 - val_acc: 0.9000\n",
      "Epoch 15/15\n",
      "7/7 [==============================] - 4s 545ms/step - loss: 0.2558 - acc: 0.9065 - val_loss: 0.3030 - val_acc: 0.8667\n"
     ]
    },
    {
     "data": {
      "text/plain": [
       "<tensorflow.python.keras.callbacks.History at 0x58154a8>"
      ]
     },
     "execution_count": 14,
     "metadata": {},
     "output_type": "execute_result"
    }
   ],
   "source": [
    "model.fit_generator(x_train,steps_per_epoch = 7,epochs = 15, validation_data = x_test, validation_steps = 2)"
   ]
  },
  {
   "cell_type": "code",
   "execution_count": 15,
   "metadata": {},
   "outputs": [],
   "source": [
    "model.save(\"thing.h5\")"
   ]
  },
  {
   "cell_type": "code",
   "execution_count": null,
   "metadata": {},
   "outputs": [],
   "source": []
  }
 ],
 "metadata": {
  "kernelspec": {
   "display_name": "Python 3",
   "language": "python",
   "name": "python3"
  },
  "language_info": {
   "codemirror_mode": {
    "name": "ipython",
    "version": 3
   },
   "file_extension": ".py",
   "mimetype": "text/x-python",
   "name": "python",
   "nbconvert_exporter": "python",
   "pygments_lexer": "ipython3",
   "version": "3.7.3"
  }
 },
 "nbformat": 4,
 "nbformat_minor": 2
}
